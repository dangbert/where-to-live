{
 "cells": [
  {
   "cell_type": "code",
   "execution_count": 64,
   "metadata": {},
   "outputs": [],
   "source": [
    "import MySQLdb\n",
    "import matplotlib.pyplot as plt\n",
    "import numpy as np\n",
    "import statistics as st"
   ]
  },
  {
   "cell_type": "code",
   "execution_count": 65,
   "metadata": {},
   "outputs": [],
   "source": [
    "db = MySQLdb.connect(user=\"code_fury\", passwd=\"devpassword\", db=\"code_fury\")\n",
    "c = db.cursor() \n",
    "percentiles = {'public_schools':{}, 'public_trans':{}, 'crime_rates':{}, 'healthcare':{}, 'avg_temp':{}, 'precipitation':{}, 'snow':{}}"
   ]
  },
  {
   "cell_type": "code",
   "execution_count": 66,
   "metadata": {},
   "outputs": [
    {
     "name": "stdout",
     "output_type": "stream",
     "text": [
      "0.84\n",
      "0.907\n",
      "0.875\n",
      "0.875\n"
     ]
    },
    {
     "data": {
      "image/png": "[encoded data removed]",
      "text/plain": [
       "<Figure size 432x288 with 1 Axes>"
      ]
     },
     "metadata": {},
     "output_type": "display_data"
    }
   ],
   "source": [
    "# Public School High School Graduation Rate\n",
    "# Low, Average, High graduation rate (or just use median for low/high)\n",
    "c.execute(\"select public_schools from counties;\")\n",
    "publicSchoolInfo = c.fetchall()\n",
    "public_schools = []\n",
    "for i  in publicSchoolInfo:\n",
    "    if (i[0] is not None):\n",
    "        public_schools.append(float(i[0]))\n",
    "        \n",
    "#print(public_schools)\n",
    "#a = np.array(public_schools)\n",
    "p = np.percentile(public_schools, 33.333)\n",
    "percentiles['public_schools']['33'] = p\n",
    "print(p)\n",
    "p = np.percentile(public_schools, 66.666)\n",
    "print(p)\n",
    "percentiles['public_schools']['66'] = p\n",
    "\n",
    "p = np.percentile(public_schools, 50)\n",
    "print(p)\n",
    "print(st.median(public_schools))\n",
    "\n",
    "\n",
    "plt.hist(public_schools, 20, facecolor='blue', alpha=0.5)\n",
    "plt.show()"
   ]
  },
  {
   "cell_type": "code",
   "execution_count": 67,
   "metadata": {},
   "outputs": [
    {
     "name": "stdout",
     "output_type": "stream",
     "text": [
      "0.0018959374599999991\n",
      "0.005931874919999998\n"
     ]
    },
    {
     "data": {
      "image/png": "[encoded data removed]",
      "text/plain": [
       "<Figure size 432x288 with 1 Axes>"
      ]
     },
     "metadata": {},
     "output_type": "display_data"
    }
   ],
   "source": [
    "# Percentage of people that use public transportation?\n",
    "# Low, Average, High\n",
    "c.execute(\"select public_trans from counties;\")\n",
    "publicTransInfo = c.fetchall()\n",
    "publicTrans = []\n",
    "for i  in publicTransInfo:\n",
    "    if (i[0] is not None):\n",
    "        publicTrans.append(float(i[0]))\n",
    "#print(publicTrans)\n",
    "p = np.percentile(publicTrans, 33.333)\n",
    "percentiles['public_trans']['33'] = p\n",
    "print(p)\n",
    "p = np.percentile(publicTrans, 66.666)\n",
    "percentiles['public_trans']['66'] = p\n",
    "print(p)\n",
    "\n",
    "plt.hist(publicTrans, 20, facecolor='blue', alpha=0.5)\n",
    "plt.show()"
   ]
  },
  {
   "cell_type": "code",
   "execution_count": 68,
   "metadata": {},
   "outputs": [
    {
     "name": "stdout",
     "output_type": "stream",
     "text": [
      "142.4358816\n",
      "275.06529279999995\n"
     ]
    },
    {
     "data": {
      "image/png": "[encoded data removed]",
      "text/plain": [
       "<Figure size 432x288 with 1 Axes>"
      ]
     },
     "metadata": {},
     "output_type": "display_data"
    }
   ],
   "source": [
    "# Crime Rates\n",
    "# Low (look at below 33 percentile), Average(above 33% and below 66%)\n",
    "c.execute(\"select crime_rates from counties;\")\n",
    "crimeInfo = c.fetchall()\n",
    "crime = []\n",
    "for i  in crimeInfo:\n",
    "    if (i[0] is not None):\n",
    "        crime.append(float(i[0]))\n",
    "\n",
    "p = np.percentile(crime, 33.333)\n",
    "percentiles['crime_rates']['33'] = p\n",
    "print(p)\n",
    "p = np.percentile(crime, 66.666)\n",
    "percentiles['crime_rates']['66'] = p\n",
    "print(p)\n",
    "\n",
    "plt.hist(crime, 20, facecolor='blue', alpha=0.5)\n",
    "plt.show()"
   ]
  },
  {
   "cell_type": "code",
   "execution_count": 69,
   "metadata": {},
   "outputs": [
    {
     "name": "stdout",
     "output_type": "stream",
     "text": [
      "40.0\n",
      "64.0\n"
     ]
    },
    {
     "data": {
      "image/png": "[encoded data removed]",
      "text/plain": [
       "<Figure size 432x288 with 1 Axes>"
      ]
     },
     "metadata": {},
     "output_type": "display_data"
    }
   ],
   "source": [
    "# Healthcare Ratios\n",
    "# High (look at above 66 percentile), Average(above 33% and below 66%)\n",
    "c.execute(\"select healthcare from counties;\")\n",
    "healthInfo = c.fetchall()\n",
    "health = []\n",
    "for i  in healthInfo:\n",
    "    if (i[0] is not None):\n",
    "        health.append(float(i[0]))\n",
    "#print(health)\n",
    "p = np.percentile(health, 33.333)\n",
    "percentiles['healthcare']['33'] = p\n",
    "print(p)\n",
    "p = np.percentile(health, 66.666)\n",
    "percentiles['healthcare']['66'] = p\n",
    "print(p)\n",
    "\n",
    "plt.hist(health, 20, facecolor='blue', alpha=0.5)\n",
    "plt.show()"
   ]
  },
  {
   "cell_type": "code",
   "execution_count": 70,
   "metadata": {},
   "outputs": [
    {
     "name": "stdout",
     "output_type": "stream",
     "text": [
      "506.0\n",
      "581.0\n",
      "544.5\n"
     ]
    },
    {
     "data": {
      "image/png": "[encoded data removed]",
      "text/plain": [
       "<Figure size 432x288 with 1 Axes>"
      ]
     },
     "metadata": {},
     "output_type": "display_data"
    }
   ],
   "source": [
    "# Climate Avg_temp\n",
    "# Hotter (above 50th percentile) tenths of degrees F\n",
    "\n",
    "c.execute(\"select avg_temp from counties;\")\n",
    "tempInfo = c.fetchall()\n",
    "temp = []\n",
    "for i  in tempInfo:\n",
    "    if (i[0] is not None):\n",
    "        temp.append(float(i[0]))\n",
    "\n",
    "p = np.percentile(temp, 33.333)\n",
    "percentiles['avg_temp']['33'] = p\n",
    "print(p)\n",
    "p = np.percentile(temp, 66.666)\n",
    "percentiles['avg_temp']['66'] = p\n",
    "print(p)\n",
    "\n",
    "p = np.percentile(temp, 50)\n",
    "print(p)\n",
    "percentiles['avg_temp']['50'] = p\n",
    "\n",
    "plt.hist(temp, 20, facecolor='blue', alpha=0.5)\n",
    "plt.show()"
   ]
  },
  {
   "cell_type": "code",
   "execution_count": 71,
   "metadata": {
    "scrolled": true
   },
   "outputs": [
    {
     "name": "stdout",
     "output_type": "stream",
     "text": [
      "3408.4737999999998\n",
      "4620.48952\n"
     ]
    },
    {
     "data": {
      "image/png": "[encoded data removed]",
      "text/plain": [
       "<Figure size 432x288 with 1 Axes>"
      ]
     },
     "metadata": {},
     "output_type": "display_data"
    }
   ],
   "source": [
    "# Climate Precipitation (hundreths of inches precipitation)\n",
    "# Low, Average, High\n",
    "\n",
    "c.execute(\"select precipitation from counties;\")\n",
    "precipInfo = c.fetchall()\n",
    "precip = []\n",
    "for i  in precipInfo:\n",
    "    if (i[0] is not None):\n",
    "        precip.append(float(i[0]))\n",
    "\n",
    "p = np.percentile(precip, 33.333)\n",
    "percentiles['precipitation']['33'] = p\n",
    "print(p)\n",
    "p = np.percentile(precip, 66.666)\n",
    "percentiles['precipitation']['66'] = p\n",
    "print(p)\n",
    "\n",
    "plt.hist(precip, 20, facecolor='blue', alpha=0.5)\n",
    "plt.show()"
   ]
  },
  {
   "cell_type": "code",
   "execution_count": 72,
   "metadata": {},
   "outputs": [
    {
     "name": "stdout",
     "output_type": "stream",
     "text": [
      "51.98951999999986\n",
      "266.374\n"
     ]
    },
    {
     "data": {
      "image/png": "[encoded data removed]",
      "text/plain": [
       "<Figure size 432x288 with 1 Axes>"
      ]
     },
     "metadata": {},
     "output_type": "display_data"
    }
   ],
   "source": [
    "# Climate Snow (tenths of inches snowfall)\n",
    "# Low, Average, High\n",
    "c.execute(\"select snow from counties;\")\n",
    "snowInfo = c.fetchall()\n",
    "snow = []\n",
    "for i  in snowInfo:\n",
    "    if (i[0] is not None):\n",
    "        snow.append(float(i[0]))\n",
    "\n",
    "p = np.percentile(snow, 33.333)\n",
    "percentiles['snow']['33'] = p\n",
    "print(p)\n",
    "p = np.percentile(snow, 66.666)\n",
    "percentiles['snow']['66'] = p\n",
    "print(p)\n",
    "\n",
    "plt.hist(snow, 20, facecolor='blue', alpha=0.5)\n",
    "plt.show()"
   ]
  },
  {
   "cell_type": "code",
   "execution_count": 76,
   "metadata": {},
   "outputs": [
    {
     "name": "stdout",
     "output_type": "stream",
     "text": [
      "{'public_schools': {'33': 0.84, '66': 0.907}, 'public_trans': {'33': 0.0018959374599999991, '66': 0.005931874919999998}, 'crime_rates': {'33': 142.4358816, '66': 275.06529279999995}, 'healthcare': {'33': 40.0, '66': 64.0}, 'avg_temp': {'33': 506.0, '66': 581.0, '50': 544.5}, 'precipitation': {'33': 3408.4737999999998, '66': 4620.48952}, 'snow': {'33': 51.98951999999986, '66': 266.374}}\n"
     ]
    }
   ],
   "source": [
    "print(percentiles)"
   ]
  },
  {
   "cell_type": "code",
   "execution_count": null,
   "metadata": {},
   "outputs": [],
   "source": []
  }
 ],
 "metadata": {
  "kernelspec": {
   "display_name": "Python 3",
   "language": "python",
   "name": "python3"
  },
  "language_info": {
   "codemirror_mode": {
    "name": "ipython",
    "version": 3
   },
   "file_extension": ".py",
   "mimetype": "text/x-python",
   "name": "python",
   "nbconvert_exporter": "python",
   "pygments_lexer": "ipython3",
   "version": "3.6.4"
  }
 },
 "nbformat": 4,
 "nbformat_minor": 2
}
